{
 "cells": [
  {
   "cell_type": "code",
   "execution_count": 1,
   "id": "87e80183",
   "metadata": {
    "execution": {
     "iopub.execute_input": "2022-07-09T12:17:50.419174Z",
     "iopub.status.busy": "2022-07-09T12:17:50.418701Z",
     "iopub.status.idle": "2022-07-09T12:18:01.148551Z",
     "shell.execute_reply": "2022-07-09T12:18:01.146672Z"
    },
    "papermill": {
     "duration": 10.741049,
     "end_time": "2022-07-09T12:18:01.151561",
     "exception": false,
     "start_time": "2022-07-09T12:17:50.410512",
     "status": "completed"
    },
    "tags": []
   },
   "outputs": [],
   "source": [
    "import numpy as np\n",
    "import pandas as pd\n",
    "from sklearn.feature_selection import SelectKBest\n",
    "from sklearn.feature_selection import chi2\n",
    "from tensorflow import keras\n",
    "from sklearn.model_selection import train_test_split"
   ]
  },
  {
   "cell_type": "code",
   "execution_count": 2,
   "id": "8ea35181",
   "metadata": {
    "execution": {
     "iopub.execute_input": "2022-07-09T12:18:01.165448Z",
     "iopub.status.busy": "2022-07-09T12:18:01.164718Z",
     "iopub.status.idle": "2022-07-09T12:18:01.249458Z",
     "shell.execute_reply": "2022-07-09T12:18:01.248013Z"
    },
    "papermill": {
     "duration": 0.094603,
     "end_time": "2022-07-09T12:18:01.252278",
     "exception": false,
     "start_time": "2022-07-09T12:18:01.157675",
     "status": "completed"
    },
    "tags": []
   },
   "outputs": [
    {
     "data": {
      "text/plain": [
       "0       False\n",
       "1        True\n",
       "2       False\n",
       "3       False\n",
       "4        True\n",
       "        ...  \n",
       "8688    False\n",
       "8689    False\n",
       "8690     True\n",
       "8691    False\n",
       "8692     True\n",
       "Name: Transported, Length: 8693, dtype: bool"
      ]
     },
     "execution_count": 2,
     "metadata": {},
     "output_type": "execute_result"
    }
   ],
   "source": [
    "data = pd.read_csv('../input/spaceship-titanic-dataset/train.csv')\n",
    "X_try = data.iloc[:,1:13]\n",
    "y = data.iloc[:,-1]\n",
    "y"
   ]
  },
  {
   "cell_type": "code",
   "execution_count": 3,
   "id": "1abb9afb",
   "metadata": {
    "execution": {
     "iopub.execute_input": "2022-07-09T12:18:01.266264Z",
     "iopub.status.busy": "2022-07-09T12:18:01.265920Z",
     "iopub.status.idle": "2022-07-09T12:18:01.270518Z",
     "shell.execute_reply": "2022-07-09T12:18:01.269033Z"
    },
    "papermill": {
     "duration": 0.013974,
     "end_time": "2022-07-09T12:18:01.272817",
     "exception": false,
     "start_time": "2022-07-09T12:18:01.258843",
     "status": "completed"
    },
    "tags": []
   },
   "outputs": [],
   "source": [
    "# cols = np.asarray(data.columns[1:])\n",
    "# for i in cols:\n",
    "#     print(i,data[i].unique())"
   ]
  },
  {
   "cell_type": "code",
   "execution_count": 4,
   "id": "7b48196d",
   "metadata": {
    "execution": {
     "iopub.execute_input": "2022-07-09T12:18:01.285516Z",
     "iopub.status.busy": "2022-07-09T12:18:01.285145Z",
     "iopub.status.idle": "2022-07-09T12:18:01.295572Z",
     "shell.execute_reply": "2022-07-09T12:18:01.294404Z"
    },
    "papermill": {
     "duration": 0.019478,
     "end_time": "2022-07-09T12:18:01.298004",
     "exception": false,
     "start_time": "2022-07-09T12:18:01.278526",
     "status": "completed"
    },
    "tags": []
   },
   "outputs": [],
   "source": [
    "change_cols = ['HomePlanet', 'Cryosleep','Destination','VIP']\n",
    "def data_clean(data):\n",
    "    \n",
    "    X = data.iloc[:, [1,2,4,6,7,10,11]]\n",
    "    y = data.iloc[:,-1]\n",
    "    \n",
    "    X['HomePlanet'].replace({'Europa':3,'Earth':1,'Mars':2},inplace=True)\n",
    "    X['CryoSleep'].replace({False:0,True:1},inplace = True)\n",
    "    X['Destination'].replace({'TRAPPIST-1e':1,'PSO J318.5-22':2,'55 Cancri e':3 },inplace = True)\n",
    "    X['VIP'].replace({False:0, True:1},inplace=True)\n",
    "    y.replace({False:0, True:1},inplace = True)\n",
    "    y = y.fillna(y.mean())\n",
    "    X = X.fillna(X.mean())\n",
    "    X = (X - X.min())/(X.max()-X.min())\n",
    "    X['CryoSleep'] = X['CryoSleep']*100\n",
    "    X['HomePlanet'] = X['HomePlanet']*15\n",
    "    X['Spa'] = X['Spa']*8\n",
    "    X['RoomService'] = X['RoomService']*7\n",
    "    X['Destination'] = X['Destination']*7\n",
    "    X['VRDeck'] = X['VRDeck']*7\n",
    "    \n",
    "    \n",
    "    return X,y\n",
    "                "
   ]
  },
  {
   "cell_type": "code",
   "execution_count": 5,
   "id": "223b7dbf",
   "metadata": {
    "execution": {
     "iopub.execute_input": "2022-07-09T12:18:01.311571Z",
     "iopub.status.busy": "2022-07-09T12:18:01.311225Z",
     "iopub.status.idle": "2022-07-09T12:18:01.356934Z",
     "shell.execute_reply": "2022-07-09T12:18:01.355528Z"
    },
    "papermill": {
     "duration": 0.056676,
     "end_time": "2022-07-09T12:18:01.360937",
     "exception": false,
     "start_time": "2022-07-09T12:18:01.304261",
     "status": "completed"
    },
    "tags": []
   },
   "outputs": [
    {
     "name": "stderr",
     "output_type": "stream",
     "text": [
      "/opt/conda/lib/python3.7/site-packages/pandas/core/generic.py:6619: SettingWithCopyWarning: \n",
      "A value is trying to be set on a copy of a slice from a DataFrame\n",
      "\n",
      "See the caveats in the documentation: https://pandas.pydata.org/pandas-docs/stable/user_guide/indexing.html#returning-a-view-versus-a-copy\n",
      "  return self._update_inplace(result)\n"
     ]
    },
    {
     "data": {
      "text/plain": [
       "(8693, 7)"
      ]
     },
     "execution_count": 5,
     "metadata": {},
     "output_type": "execute_result"
    }
   ],
   "source": [
    "X,y = data_clean(data)\n",
    "X.shape"
   ]
  },
  {
   "cell_type": "code",
   "execution_count": 6,
   "id": "9c3e40ab",
   "metadata": {
    "execution": {
     "iopub.execute_input": "2022-07-09T12:18:01.374914Z",
     "iopub.status.busy": "2022-07-09T12:18:01.374520Z",
     "iopub.status.idle": "2022-07-09T12:18:01.383867Z",
     "shell.execute_reply": "2022-07-09T12:18:01.382527Z"
    },
    "papermill": {
     "duration": 0.019315,
     "end_time": "2022-07-09T12:18:01.386425",
     "exception": false,
     "start_time": "2022-07-09T12:18:01.367110",
     "status": "completed"
    },
    "tags": []
   },
   "outputs": [],
   "source": [
    "X = np.asarray(X)\n",
    "y = np.asarray(y)\n",
    "\n",
    "X_train, X_test, y_train, y_test = train_test_split(X,y, test_size = 0.2, random_state = 1)"
   ]
  },
  {
   "cell_type": "code",
   "execution_count": 7,
   "id": "61a5e27d",
   "metadata": {
    "execution": {
     "iopub.execute_input": "2022-07-09T12:18:01.400727Z",
     "iopub.status.busy": "2022-07-09T12:18:01.400143Z",
     "iopub.status.idle": "2022-07-09T12:18:01.405046Z",
     "shell.execute_reply": "2022-07-09T12:18:01.404403Z"
    },
    "papermill": {
     "duration": 0.014747,
     "end_time": "2022-07-09T12:18:01.407415",
     "exception": false,
     "start_time": "2022-07-09T12:18:01.392668",
     "status": "completed"
    },
    "tags": []
   },
   "outputs": [
    {
     "data": {
      "text/plain": [
       "array([0, 0, 0, ..., 0, 1, 0])"
      ]
     },
     "execution_count": 7,
     "metadata": {},
     "output_type": "execute_result"
    }
   ],
   "source": [
    "y_train"
   ]
  },
  {
   "cell_type": "code",
   "execution_count": 8,
   "id": "c9095268",
   "metadata": {
    "execution": {
     "iopub.execute_input": "2022-07-09T12:18:01.422014Z",
     "iopub.status.busy": "2022-07-09T12:18:01.421268Z",
     "iopub.status.idle": "2022-07-09T12:18:49.876416Z",
     "shell.execute_reply": "2022-07-09T12:18:49.875225Z"
    },
    "papermill": {
     "duration": 48.464417,
     "end_time": "2022-07-09T12:18:49.878270",
     "exception": false,
     "start_time": "2022-07-09T12:18:01.413853",
     "status": "completed"
    },
    "tags": []
   },
   "outputs": [
    {
     "name": "stderr",
     "output_type": "stream",
     "text": [
      "2022-07-09 12:18:02.640273: I tensorflow/core/common_runtime/process_util.cc:146] Creating new thread pool with default inter op setting: 2. Tune using inter_op_parallelism_threads for best performance.\n",
      "2022-07-09 12:18:02.814289: I tensorflow/compiler/mlir/mlir_graph_optimization_pass.cc:185] None of the MLIR Optimization Passes are enabled (registered 2)\n"
     ]
    },
    {
     "name": "stdout",
     "output_type": "stream",
     "text": [
      "Epoch 1/100\n",
      "218/218 [==============================] - 1s 2ms/step - loss: 2.1070 - accuracy: 0.5567\n",
      "Epoch 2/100\n",
      "218/218 [==============================] - 0s 2ms/step - loss: 0.9134 - accuracy: 0.5892\n",
      "Epoch 3/100\n",
      "218/218 [==============================] - 0s 2ms/step - loss: 0.7360 - accuracy: 0.5933\n",
      "Epoch 4/100\n",
      "218/218 [==============================] - 0s 2ms/step - loss: 0.6810 - accuracy: 0.6107\n",
      "Epoch 5/100\n",
      "218/218 [==============================] - 0s 2ms/step - loss: 0.6444 - accuracy: 0.6323\n",
      "Epoch 6/100\n",
      "218/218 [==============================] - 0s 2ms/step - loss: 0.6189 - accuracy: 0.6437\n",
      "Epoch 7/100\n",
      "218/218 [==============================] - 0s 2ms/step - loss: 0.6024 - accuracy: 0.6496\n",
      "Epoch 8/100\n",
      "218/218 [==============================] - 0s 2ms/step - loss: 0.5884 - accuracy: 0.6982\n",
      "Epoch 9/100\n",
      "218/218 [==============================] - 1s 2ms/step - loss: 0.5867 - accuracy: 0.7148\n",
      "Epoch 10/100\n",
      "218/218 [==============================] - 0s 2ms/step - loss: 0.5795 - accuracy: 0.7153\n",
      "Epoch 11/100\n",
      "218/218 [==============================] - 0s 2ms/step - loss: 0.5733 - accuracy: 0.7169\n",
      "Epoch 12/100\n",
      "218/218 [==============================] - 0s 2ms/step - loss: 0.5675 - accuracy: 0.7192\n",
      "Epoch 13/100\n",
      "218/218 [==============================] - 0s 2ms/step - loss: 0.5711 - accuracy: 0.7248\n",
      "Epoch 14/100\n",
      "218/218 [==============================] - 0s 2ms/step - loss: 0.5561 - accuracy: 0.7325\n",
      "Epoch 15/100\n",
      "218/218 [==============================] - 0s 2ms/step - loss: 0.5654 - accuracy: 0.7305\n",
      "Epoch 16/100\n",
      "218/218 [==============================] - 0s 2ms/step - loss: 0.5630 - accuracy: 0.7276\n",
      "Epoch 17/100\n",
      "218/218 [==============================] - 0s 2ms/step - loss: 0.5566 - accuracy: 0.7291\n",
      "Epoch 18/100\n",
      "218/218 [==============================] - 0s 2ms/step - loss: 0.5491 - accuracy: 0.7384\n",
      "Epoch 19/100\n",
      "218/218 [==============================] - 0s 2ms/step - loss: 0.5483 - accuracy: 0.7345\n",
      "Epoch 20/100\n",
      "218/218 [==============================] - 0s 2ms/step - loss: 0.5563 - accuracy: 0.7368\n",
      "Epoch 21/100\n",
      "218/218 [==============================] - 0s 2ms/step - loss: 0.5490 - accuracy: 0.7322\n",
      "Epoch 22/100\n",
      "218/218 [==============================] - 0s 2ms/step - loss: 0.5457 - accuracy: 0.7360\n",
      "Epoch 23/100\n",
      "218/218 [==============================] - 0s 2ms/step - loss: 0.5484 - accuracy: 0.7396\n",
      "Epoch 24/100\n",
      "218/218 [==============================] - 0s 2ms/step - loss: 0.5408 - accuracy: 0.7391\n",
      "Epoch 25/100\n",
      "218/218 [==============================] - 0s 2ms/step - loss: 0.5400 - accuracy: 0.7414\n",
      "Epoch 26/100\n",
      "218/218 [==============================] - 0s 2ms/step - loss: 0.5433 - accuracy: 0.7361\n",
      "Epoch 27/100\n",
      "218/218 [==============================] - 0s 2ms/step - loss: 0.5379 - accuracy: 0.7404\n",
      "Epoch 28/100\n",
      "218/218 [==============================] - 0s 2ms/step - loss: 0.5297 - accuracy: 0.7476\n",
      "Epoch 29/100\n",
      "218/218 [==============================] - 0s 2ms/step - loss: 0.5358 - accuracy: 0.7436\n",
      "Epoch 30/100\n",
      "218/218 [==============================] - 0s 2ms/step - loss: 0.5261 - accuracy: 0.7449\n",
      "Epoch 31/100\n",
      "218/218 [==============================] - 0s 2ms/step - loss: 0.5309 - accuracy: 0.7448\n",
      "Epoch 32/100\n",
      "218/218 [==============================] - 0s 2ms/step - loss: 0.5322 - accuracy: 0.7466\n",
      "Epoch 33/100\n",
      "218/218 [==============================] - 0s 2ms/step - loss: 0.5235 - accuracy: 0.7472\n",
      "Epoch 34/100\n",
      "218/218 [==============================] - 0s 2ms/step - loss: 0.5296 - accuracy: 0.7491\n",
      "Epoch 35/100\n",
      "218/218 [==============================] - 0s 2ms/step - loss: 0.5205 - accuracy: 0.7499\n",
      "Epoch 36/100\n",
      "218/218 [==============================] - 0s 2ms/step - loss: 0.5089 - accuracy: 0.7550\n",
      "Epoch 37/100\n",
      "218/218 [==============================] - 0s 2ms/step - loss: 0.5201 - accuracy: 0.7506\n",
      "Epoch 38/100\n",
      "218/218 [==============================] - 1s 2ms/step - loss: 0.5195 - accuracy: 0.7462\n",
      "Epoch 39/100\n",
      "218/218 [==============================] - 0s 2ms/step - loss: 0.5128 - accuracy: 0.7527\n",
      "Epoch 40/100\n",
      "218/218 [==============================] - 1s 2ms/step - loss: 0.5152 - accuracy: 0.7512\n",
      "Epoch 41/100\n",
      "218/218 [==============================] - 0s 2ms/step - loss: 0.5136 - accuracy: 0.7571\n",
      "Epoch 42/100\n",
      "218/218 [==============================] - 0s 2ms/step - loss: 0.5103 - accuracy: 0.7555\n",
      "Epoch 43/100\n",
      "218/218 [==============================] - 0s 2ms/step - loss: 0.5089 - accuracy: 0.7567\n",
      "Epoch 44/100\n",
      "218/218 [==============================] - 0s 2ms/step - loss: 0.5048 - accuracy: 0.7558\n",
      "Epoch 45/100\n",
      "218/218 [==============================] - 0s 2ms/step - loss: 0.5148 - accuracy: 0.7529\n",
      "Epoch 46/100\n",
      "218/218 [==============================] - 0s 2ms/step - loss: 0.5025 - accuracy: 0.7560\n",
      "Epoch 47/100\n",
      "218/218 [==============================] - 0s 2ms/step - loss: 0.5110 - accuracy: 0.7489\n",
      "Epoch 48/100\n",
      "218/218 [==============================] - 0s 2ms/step - loss: 0.5027 - accuracy: 0.7547\n",
      "Epoch 49/100\n",
      "218/218 [==============================] - 0s 2ms/step - loss: 0.5056 - accuracy: 0.7535\n",
      "Epoch 50/100\n",
      "218/218 [==============================] - 1s 2ms/step - loss: 0.5079 - accuracy: 0.7538\n",
      "Epoch 51/100\n",
      "218/218 [==============================] - 0s 2ms/step - loss: 0.5047 - accuracy: 0.7597\n",
      "Epoch 52/100\n",
      "218/218 [==============================] - 0s 2ms/step - loss: 0.5076 - accuracy: 0.7586\n",
      "Epoch 53/100\n",
      "218/218 [==============================] - 0s 2ms/step - loss: 0.5020 - accuracy: 0.7619\n",
      "Epoch 54/100\n",
      "218/218 [==============================] - 0s 2ms/step - loss: 0.5042 - accuracy: 0.7646\n",
      "Epoch 55/100\n",
      "218/218 [==============================] - 0s 2ms/step - loss: 0.5008 - accuracy: 0.7659\n",
      "Epoch 56/100\n",
      "218/218 [==============================] - 0s 2ms/step - loss: 0.5043 - accuracy: 0.7590\n",
      "Epoch 57/100\n",
      "218/218 [==============================] - 0s 2ms/step - loss: 0.5053 - accuracy: 0.7672\n",
      "Epoch 58/100\n",
      "218/218 [==============================] - 0s 2ms/step - loss: 0.5010 - accuracy: 0.7640\n",
      "Epoch 59/100\n",
      "218/218 [==============================] - 0s 2ms/step - loss: 0.5032 - accuracy: 0.7634\n",
      "Epoch 60/100\n",
      "218/218 [==============================] - 0s 2ms/step - loss: 0.5022 - accuracy: 0.7652\n",
      "Epoch 61/100\n",
      "218/218 [==============================] - 1s 2ms/step - loss: 0.5031 - accuracy: 0.7610\n",
      "Epoch 62/100\n",
      "218/218 [==============================] - 1s 3ms/step - loss: 0.5044 - accuracy: 0.7639\n",
      "Epoch 63/100\n",
      "218/218 [==============================] - 1s 2ms/step - loss: 0.4996 - accuracy: 0.7692\n",
      "Epoch 64/100\n",
      "218/218 [==============================] - 0s 2ms/step - loss: 0.5039 - accuracy: 0.7652\n",
      "Epoch 65/100\n",
      "218/218 [==============================] - 0s 2ms/step - loss: 0.5015 - accuracy: 0.7613\n",
      "Epoch 66/100\n",
      "218/218 [==============================] - 1s 3ms/step - loss: 0.5033 - accuracy: 0.7619\n",
      "Epoch 67/100\n",
      "218/218 [==============================] - 1s 2ms/step - loss: 0.4978 - accuracy: 0.7611\n",
      "Epoch 68/100\n",
      "218/218 [==============================] - 0s 2ms/step - loss: 0.5050 - accuracy: 0.7573\n",
      "Epoch 69/100\n",
      "218/218 [==============================] - 0s 2ms/step - loss: 0.5013 - accuracy: 0.7609\n",
      "Epoch 70/100\n",
      "218/218 [==============================] - 0s 2ms/step - loss: 0.5054 - accuracy: 0.7591\n",
      "Epoch 71/100\n",
      "218/218 [==============================] - 0s 2ms/step - loss: 0.5091 - accuracy: 0.7593\n",
      "Epoch 72/100\n",
      "218/218 [==============================] - 1s 2ms/step - loss: 0.4959 - accuracy: 0.7686\n",
      "Epoch 73/100\n",
      "218/218 [==============================] - 0s 2ms/step - loss: 0.5039 - accuracy: 0.7550\n",
      "Epoch 74/100\n",
      "218/218 [==============================] - 0s 2ms/step - loss: 0.4912 - accuracy: 0.7666\n",
      "Epoch 75/100\n",
      "218/218 [==============================] - 0s 2ms/step - loss: 0.4987 - accuracy: 0.7650\n",
      "Epoch 76/100\n",
      "218/218 [==============================] - 0s 2ms/step - loss: 0.4967 - accuracy: 0.7639\n",
      "Epoch 77/100\n",
      "218/218 [==============================] - 0s 2ms/step - loss: 0.4980 - accuracy: 0.7655\n",
      "Epoch 78/100\n",
      "218/218 [==============================] - 0s 2ms/step - loss: 0.4970 - accuracy: 0.7646\n",
      "Epoch 79/100\n",
      "218/218 [==============================] - 0s 2ms/step - loss: 0.5035 - accuracy: 0.7584\n",
      "Epoch 80/100\n",
      "218/218 [==============================] - 0s 2ms/step - loss: 0.5059 - accuracy: 0.7646\n",
      "Epoch 81/100\n",
      "218/218 [==============================] - 0s 2ms/step - loss: 0.5007 - accuracy: 0.7606\n",
      "Epoch 82/100\n",
      "218/218 [==============================] - 1s 3ms/step - loss: 0.4987 - accuracy: 0.7630\n",
      "Epoch 83/100\n",
      "218/218 [==============================] - 1s 3ms/step - loss: 0.5016 - accuracy: 0.7619\n",
      "Epoch 84/100\n",
      "218/218 [==============================] - 1s 2ms/step - loss: 0.4929 - accuracy: 0.7637\n",
      "Epoch 85/100\n",
      "218/218 [==============================] - 1s 2ms/step - loss: 0.4987 - accuracy: 0.7642\n",
      "Epoch 86/100\n",
      "218/218 [==============================] - 0s 2ms/step - loss: 0.4974 - accuracy: 0.7623\n",
      "Epoch 87/100\n",
      "218/218 [==============================] - 1s 2ms/step - loss: 0.5024 - accuracy: 0.7634\n",
      "Epoch 88/100\n",
      "218/218 [==============================] - 0s 2ms/step - loss: 0.4970 - accuracy: 0.7645\n",
      "Epoch 89/100\n",
      "218/218 [==============================] - 0s 2ms/step - loss: 0.4979 - accuracy: 0.7619\n",
      "Epoch 90/100\n",
      "218/218 [==============================] - 0s 2ms/step - loss: 0.5013 - accuracy: 0.7632\n",
      "Epoch 91/100\n",
      "218/218 [==============================] - 0s 2ms/step - loss: 0.5011 - accuracy: 0.7653\n",
      "Epoch 92/100\n",
      "218/218 [==============================] - 0s 2ms/step - loss: 0.5102 - accuracy: 0.7633\n",
      "Epoch 93/100\n",
      "218/218 [==============================] - 1s 2ms/step - loss: 0.4979 - accuracy: 0.7678\n",
      "Epoch 94/100\n",
      "218/218 [==============================] - 1s 3ms/step - loss: 0.4950 - accuracy: 0.7646\n",
      "Epoch 95/100\n",
      "218/218 [==============================] - 0s 2ms/step - loss: 0.5012 - accuracy: 0.7594\n",
      "Epoch 96/100\n",
      "218/218 [==============================] - 1s 3ms/step - loss: 0.5007 - accuracy: 0.7600\n",
      "Epoch 97/100\n",
      "218/218 [==============================] - 0s 2ms/step - loss: 0.4938 - accuracy: 0.7610\n",
      "Epoch 98/100\n",
      "218/218 [==============================] - 0s 2ms/step - loss: 0.4986 - accuracy: 0.7643\n",
      "Epoch 99/100\n",
      "218/218 [==============================] - 0s 2ms/step - loss: 0.4999 - accuracy: 0.7678\n",
      "Epoch 100/100\n",
      "218/218 [==============================] - 1s 2ms/step - loss: 0.5030 - accuracy: 0.7676\n"
     ]
    },
    {
     "data": {
      "text/plain": [
       "<keras.callbacks.History at 0x7f13236ac150>"
      ]
     },
     "execution_count": 8,
     "metadata": {},
     "output_type": "execute_result"
    }
   ],
   "source": [
    "model = keras.Sequential([\n",
    "    keras.layers.Dense(20, input_shape=(7,),activation='relu'),\n",
    "    keras.layers.Dropout(0.5),\n",
    "    keras.layers.Dense(10,activation = 'relu'),\n",
    "    keras.layers.Dropout(0.5),\n",
    "    keras.layers.Dense(1,activation = 'sigmoid')\n",
    "])\n",
    "\n",
    "model.compile(optimizer = 'Adam',\n",
    "             loss = 'binary_crossentropy',\n",
    "             metrics = ['accuracy'])\n",
    "\n",
    "model.fit(X_train, y_train, epochs = 100)"
   ]
  },
  {
   "cell_type": "code",
   "execution_count": 9,
   "id": "05408e48",
   "metadata": {
    "execution": {
     "iopub.execute_input": "2022-07-09T12:18:50.001114Z",
     "iopub.status.busy": "2022-07-09T12:18:50.000386Z",
     "iopub.status.idle": "2022-07-09T12:18:50.383549Z",
     "shell.execute_reply": "2022-07-09T12:18:50.381638Z"
    },
    "papermill": {
     "duration": 0.447507,
     "end_time": "2022-07-09T12:18:50.385993",
     "exception": false,
     "start_time": "2022-07-09T12:18:49.938486",
     "status": "completed"
    },
    "tags": []
   },
   "outputs": [
    {
     "name": "stdout",
     "output_type": "stream",
     "text": [
      "55/55 [==============================] - 0s 1ms/step - loss: 0.4598 - accuracy: 0.7907\n"
     ]
    },
    {
     "data": {
      "text/plain": [
       "[0.4597650468349457, 0.7906842827796936]"
      ]
     },
     "execution_count": 9,
     "metadata": {},
     "output_type": "execute_result"
    }
   ],
   "source": [
    "model.evaluate(X_test, y_test)"
   ]
  },
  {
   "cell_type": "code",
   "execution_count": 10,
   "id": "ae9817d7",
   "metadata": {
    "execution": {
     "iopub.execute_input": "2022-07-09T12:18:50.507159Z",
     "iopub.status.busy": "2022-07-09T12:18:50.506568Z",
     "iopub.status.idle": "2022-07-09T12:18:50.517649Z",
     "shell.execute_reply": "2022-07-09T12:18:50.516691Z"
    },
    "papermill": {
     "duration": 0.074223,
     "end_time": "2022-07-09T12:18:50.519810",
     "exception": false,
     "start_time": "2022-07-09T12:18:50.445587",
     "status": "completed"
    },
    "tags": []
   },
   "outputs": [],
   "source": [
    "def clean(data):\n",
    "    \n",
    "    X = data.iloc[:, [1,2,4,6,7,10,11]]\n",
    "    \n",
    "    X['HomePlanet'].replace({'Europa':3,'Earth':1,'Mars':2},inplace=True)\n",
    "    X['CryoSleep'].replace({False:0,True:1},inplace = True)\n",
    "    X['Destination'].replace({'TRAPPIST-1e':1,'PSO J318.5-22':2,'55 Cancri e':3 },inplace = True)\n",
    "    X['VIP'].replace({False:0, True:1},inplace=True)\n",
    "    X = X.fillna(X.mean())\n",
    "    X = (X - X.min())/(X.max()-X.min())\n",
    "    X['CryoSleep'] = X['CryoSleep']*100\n",
    "    X['HomePlanet'] = X['HomePlanet']*15\n",
    "    X['Spa'] = X['Spa']*8\n",
    "    X['RoomService'] = X['RoomService']*7\n",
    "    X['Destination'] = X['Destination']*7\n",
    "    X['VRDeck'] = X['VRDeck']*7\n",
    "    \n",
    "    \n",
    "    return X"
   ]
  },
  {
   "cell_type": "code",
   "execution_count": 11,
   "id": "35e48207",
   "metadata": {
    "execution": {
     "iopub.execute_input": "2022-07-09T12:18:50.643429Z",
     "iopub.status.busy": "2022-07-09T12:18:50.642810Z",
     "iopub.status.idle": "2022-07-09T12:18:50.686633Z",
     "shell.execute_reply": "2022-07-09T12:18:50.685461Z"
    },
    "papermill": {
     "duration": 0.109166,
     "end_time": "2022-07-09T12:18:50.688819",
     "exception": false,
     "start_time": "2022-07-09T12:18:50.579653",
     "status": "completed"
    },
    "tags": []
   },
   "outputs": [],
   "source": [
    "data1 = pd.read_csv('../input/spaceship-titanic-dataset/test.csv')\n",
    "X_pred = clean(data1)"
   ]
  },
  {
   "cell_type": "code",
   "execution_count": 12,
   "id": "4c23db65",
   "metadata": {
    "execution": {
     "iopub.execute_input": "2022-07-09T12:18:50.850989Z",
     "iopub.status.busy": "2022-07-09T12:18:50.850585Z",
     "iopub.status.idle": "2022-07-09T12:18:51.244394Z",
     "shell.execute_reply": "2022-07-09T12:18:51.242237Z"
    },
    "papermill": {
     "duration": 0.498803,
     "end_time": "2022-07-09T12:18:51.248273",
     "exception": false,
     "start_time": "2022-07-09T12:18:50.749470",
     "status": "completed"
    },
    "tags": []
   },
   "outputs": [],
   "source": [
    "y_pred = model.predict(X_pred)\n",
    "yp = []\n",
    "for i in y_pred:\n",
    "    if i >= 0.5:\n",
    "        yp.append(True)\n",
    "    else:\n",
    "        yp.append(False)\n"
   ]
  },
  {
   "cell_type": "code",
   "execution_count": 13,
   "id": "31821265",
   "metadata": {
    "execution": {
     "iopub.execute_input": "2022-07-09T12:18:51.370256Z",
     "iopub.status.busy": "2022-07-09T12:18:51.369870Z",
     "iopub.status.idle": "2022-07-09T12:18:51.378818Z",
     "shell.execute_reply": "2022-07-09T12:18:51.377801Z"
    },
    "papermill": {
     "duration": 0.072226,
     "end_time": "2022-07-09T12:18:51.381160",
     "exception": false,
     "start_time": "2022-07-09T12:18:51.308934",
     "status": "completed"
    },
    "tags": []
   },
   "outputs": [
    {
     "data": {
      "text/plain": [
       "0       0013_01\n",
       "1       0018_01\n",
       "2       0019_01\n",
       "3       0021_01\n",
       "4       0023_01\n",
       "         ...   \n",
       "4272    9266_02\n",
       "4273    9269_01\n",
       "4274    9271_01\n",
       "4275    9273_01\n",
       "4276    9277_01\n",
       "Name: PassengerId, Length: 4277, dtype: object"
      ]
     },
     "execution_count": 13,
     "metadata": {},
     "output_type": "execute_result"
    }
   ],
   "source": [
    "data1.PassengerId"
   ]
  },
  {
   "cell_type": "code",
   "execution_count": 14,
   "id": "cfdfba92",
   "metadata": {
    "execution": {
     "iopub.execute_input": "2022-07-09T12:18:51.582901Z",
     "iopub.status.busy": "2022-07-09T12:18:51.582528Z",
     "iopub.status.idle": "2022-07-09T12:18:51.599394Z",
     "shell.execute_reply": "2022-07-09T12:18:51.598417Z"
    },
    "papermill": {
     "duration": 0.120973,
     "end_time": "2022-07-09T12:18:51.601935",
     "exception": false,
     "start_time": "2022-07-09T12:18:51.480962",
     "status": "completed"
    },
    "tags": []
   },
   "outputs": [],
   "source": [
    "\n",
    "prediction = yp\n",
    "my_submission = pd.DataFrame({'PassengerId': data1.PassengerId, 'Transported': prediction})\n",
    "# you could use any filename. We choose submission here\n",
    "my_submission.to_csv('submission.csv', index=False)\n",
    "# file.to_csv('submission.csv',index = False)    "
   ]
  },
  {
   "cell_type": "code",
   "execution_count": null,
   "id": "ebbba7b0",
   "metadata": {
    "papermill": {
     "duration": 0.103561,
     "end_time": "2022-07-09T12:18:51.802826",
     "exception": false,
     "start_time": "2022-07-09T12:18:51.699265",
     "status": "completed"
    },
    "tags": []
   },
   "outputs": [],
   "source": []
  }
 ],
 "metadata": {
  "kernelspec": {
   "display_name": "Python 3",
   "language": "python",
   "name": "python3"
  },
  "language_info": {
   "codemirror_mode": {
    "name": "ipython",
    "version": 3
   },
   "file_extension": ".py",
   "mimetype": "text/x-python",
   "name": "python",
   "nbconvert_exporter": "python",
   "pygments_lexer": "ipython3",
   "version": "3.7.12"
  },
  "papermill": {
   "default_parameters": {},
   "duration": 75.930302,
   "end_time": "2022-07-09T12:18:54.757998",
   "environment_variables": {},
   "exception": null,
   "input_path": "__notebook__.ipynb",
   "output_path": "__notebook__.ipynb",
   "parameters": {},
   "start_time": "2022-07-09T12:17:38.827696",
   "version": "2.3.4"
  }
 },
 "nbformat": 4,
 "nbformat_minor": 5
}
